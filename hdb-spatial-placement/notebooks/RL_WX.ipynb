{
 "cells": [
  {
   "cell_type": "code",
   "execution_count": 115,
   "metadata": {},
   "outputs": [],
   "source": [
    "#Defining some Classic Variables and Values\n",
    "\n",
    "environment_variables = {0: 'road', 1: 'footpath', 2: 'playground', 3: 'passive'}\n",
    "theme_variables = {-1: 'naturalistic', -2: 'manicured'}\n"
   ]
  },
  {
   "cell_type": "code",
   "execution_count": 116,
   "metadata": {},
   "outputs": [],
   "source": [
    "#Action space variables\n",
    "#Look into action masking for possible actions\n",
    "\n",
    "# Missing Colour, Trunk texture for NOW\n",
    "class plantSpecies():\n",
    "    def __init__(self, species_id, type, height, radius, sun_requirements, attracted_species, fragrant, fruit_bearing, texture) -> None:\n",
    "        self.species_id = species_id\n",
    "        self.type = type\n",
    "        self.height = height\n",
    "        self.radius = radius\n",
    "        self.sun_requirements = sun_requirements\n",
    "        self.attracted_species = attracted_species\n",
    "        self.fragrant = fragrant\n",
    "        self.fruit_bearing = fruit_bearing\n",
    "        self.texture = texture\n",
    "\n",
    "\n",
    "species1 = plantSpecies(100, 'shrub', 0.5, 2, 'low', None, False, False, 'thin')\n",
    "species2 = plantSpecies(101, 'shrub', 0.75, 3, 'high', 'butterfly', True, True, 'medium')\n",
    "species3 = plantSpecies(102, 'shrub', 1, 3, 'low', 'bee', False, True, 'coarse')\n",
    "species4 = plantSpecies(103, 'tree', 10, 2, 'high', None, None, True, None)\n",
    "species5 = plantSpecies(104, 'tree', 15, 3, 'high', None, None, True, None)\n",
    "species6 = plantSpecies(105, 'tree', 20, 4, 'high', None, None, True, None)"
   ]
  },
  {
   "cell_type": "code",
   "execution_count": 117,
   "metadata": {},
   "outputs": [],
   "source": [
    "import numpy\n",
    "# Define Set Environment\n",
    "def create_grid(type, max_size, shape_size, context_value, shape_value):\n",
    "    grid = np.full((max_size, max_size), context_value)\n",
    "    \n",
    "    start_x_value = (max_size - shape_size[0])//2\n",
    "    start_y_value = (max_size - shape_size[1])//2\n",
    "    \n",
    "    if type == 'square':\n",
    "        grid[start_y_value:start_y_value+shape_size[1], start_x_value:start_x_value+shape_size[0]] = shape_value\n",
    "\n",
    "    elif type == 'circle':\n",
    "        for x in range(max_size):\n",
    "            for y in range(max_size):\n",
    "                if (x-start_x_value) **2 + (y - start_y_value)**2 <= shape_size[0]**2:\n",
    "                    grid[y,x] = shape_value\n",
    "\n",
    "    elif type == 'rectangle':\n",
    "        grid[start_y_value:start_y_value+shape_size[1], start_x_value:start_x_value+shape_size[0]] = shape_value\n",
    "\n",
    "    return grid"
   ]
  },
  {
   "cell_type": "code",
   "execution_count": 273,
   "metadata": {},
   "outputs": [],
   "source": [
    "import numpy as np\n",
    "import gym\n",
    "from gym import spaces\n",
    "\n",
    "# Environment Class\n",
    "class customGridEnv(gym.Env):\n",
    "    def __init__(self, grid):\n",
    "        self.grid_size= grid.shape\n",
    "        self.values = [-1, -2, 100, 101, 102, 103, 104, 105, 0, 1, 2, 3]\n",
    "        self.values_to_index = {value: index for index, value in enumerate(self.values)}\n",
    "        \n",
    "        self.action_to_value = {0: 'moveup', 1: 'moveleft', 2: 'moveright', 3: 'movedown', 4: species1, 5: species2, 6: species3, 7: species4, 8: species5, 9:species6}\n",
    "        self.id_to_species = {100: species1, 101: species2, 102:species3, 103:species4, 104:species5, 105:species6}\n",
    "\n",
    "        self.agent_position = (0, 0)\n",
    "\n",
    "        # Initialize your grid\n",
    "        self.grid = grid\n",
    "        self.initial_grid = grid.copy()\n",
    "\n",
    "        self.action_space = spaces.Discrete(len(self.action_to_value)) \n",
    "        # self.observation_space = spaces.Box(low=-2, high=105, shape=(np.prod(self.grid_size)  *  2 + 2, )) #flattened grid + flattened visited + flattened agent position\n",
    "        self.visited = np.zeros(self.grid_size, dtype=bool)  # False means unvisited\n",
    "        self.observation_space = spaces.Box(low=-2, high=105, shape=self.get_observation().shape)\n",
    "\n",
    "\n",
    "    def reset(self):\n",
    "        self.agent_position = (0,0)\n",
    "        self.visited = np.zeros(self.grid_size, dtype=bool)  # False means unvisited\n",
    "        self.grid = self.initial_grid.copy()  # Reset the grid\n",
    "        return self.get_observation()\n",
    "\n",
    "\n",
    "    def step(self, action):\n",
    "        reward = 0\n",
    "        action_to_take = self.action_to_value[int(action)]\n",
    "\n",
    "        if action_to_take in ['moveup', 'movedown', 'moveleft', 'moveright']:\n",
    "            reward += self.calculate_movement_reward(action_to_take)\n",
    "\n",
    "        else:\n",
    "            reward += self.calculate_design_reward(action_to_take)\n",
    "\n",
    "        terminated = False\n",
    "        return self.get_observation(), reward, terminated,  {}\n",
    "\n",
    "    \n",
    "    def calculate_movement_reward(self, action_to_take):\n",
    "        prev_x, prev_y = self.agent_position\n",
    "        reward = 0\n",
    "        \n",
    "        if action_to_take == 'moveup' and prev_y > 0:\n",
    "            self.agent_position = (prev_x, prev_y-1)\n",
    "\n",
    "        elif action_to_take == 'movedown' and prev_y < self.grid_size[1]-1:\n",
    "            self.agent_position = (prev_x, prev_y+1)\n",
    "\n",
    "        elif action_to_take == 'moveleft' and prev_x > 0:\n",
    "            self.agent_position = (prev_x-1, prev_y)\n",
    "\n",
    "        elif action_to_take == 'moveright' and prev_x < self.grid_size[0]-1:\n",
    "            self.agent_position = (prev_x+1, prev_y)\n",
    "        \n",
    "        else:\n",
    "            # Out of bounds\n",
    "            return -500\n",
    "        \n",
    "        # Reward for visiting\n",
    "        if self.visited[self.agent_position[1], self.agent_position[0]]:\n",
    "            reward = -50\n",
    "\n",
    "        self.visited[self.agent_position[1], self.agent_position[0]] = True\n",
    "        \n",
    "        prev_value = int(self.grid[prev_y, prev_x])\n",
    "        current_value = int(self.grid[self.agent_position[1], self.agent_position[0]])\n",
    "\n",
    "        #Unplanted -> Planted (reward med)           \n",
    "        #Unplantable -> Unplantable (reward med)\n",
    "        if prev_value in [0,1,2,3] and current_value in [0,1,2,3,100,101,102,103,104,105]:\n",
    "            return (150 + reward)\n",
    "\n",
    "        #Unplantable -> Plantable (reward huge)\n",
    "        if prev_value in [0,1,2,3] and current_value not in [0,1,2,3,100,101,102,103,104,105]:\n",
    "            return (250 + reward)\n",
    "\n",
    "        #Plantable -> Unplanted (reward small)\n",
    "        if prev_value in [-1,-2] and current_value in [0,1,2,3]:\n",
    "            return (20+ reward)\n",
    "        \n",
    "        #Plantable -> Planted (reward med)\n",
    "        #Plantable -> Plantable (reward med)\n",
    "        if prev_value in [-1,-2] and current_value in [-1,-2,100,101,102,103,104,105]:\n",
    "            return (75 + reward)\n",
    "        \n",
    "        #Planted -> Planted (reward med)\n",
    "        if prev_value in [100,101,102,103,104,105] and current_value in [100,101,102,103,104,105]:\n",
    "            return (75 + reward)\n",
    "        \n",
    "        #Planted -> Plantable (reward big)\n",
    "        if prev_value in [100,101,102,103,104,105] and current_value in [-1,-2]:\n",
    "            return (150 + reward)\n",
    "        \n",
    "        #Planted -> Unplanted (reward small)\n",
    "        if prev_value in [100,101,102,103,104,105] and current_value in [0,1,2,3]:\n",
    "            return (20 + reward)\n",
    "            \n",
    "    \n",
    "    def calculate_design_reward(self, action_to_take):\n",
    "        radius = action_to_take.radius\n",
    "        return self.check_area(action_to_take.species_id , radius, self.agent_position)\n",
    "\n",
    "\n",
    "    def check_area(self, species_id, radius, center_coord):\n",
    "        reward = 0\n",
    "\n",
    "        for dx in range(-radius, radius+1):\n",
    "            for dy in range(-radius, radius+1):\n",
    "                x, y = center_coord[0] +  dx , center_coord[1] + dy\n",
    "\n",
    "                if x**2 + y **2 <= radius**2:\n",
    "                    if 0 <= x < self.grid_size[1] and 0 <=y < self.grid_size[0]:\n",
    "                        current_value = self.grid[y,x]\n",
    "                        if current_value in [-1, -2]:\n",
    "                            reward += 30\n",
    "                        \n",
    "                        elif current_value in [0,1,2,3]:\n",
    "                            reward -= 100\n",
    "                        \n",
    "                        else:\n",
    "                            reward -= 50\n",
    "\n",
    "                        self.grid[y,x] = species_id\n",
    "\n",
    "                    # Boundary\n",
    "                    else:\n",
    "                        reward -= 500\n",
    "\n",
    "        return reward\n",
    "\n",
    "\n",
    "    # def get_observation(self):\n",
    "    #     flattened_grid = self.grid.flatten()\n",
    "    #     flattened_visited = self.visited.flatten().astype(float)  # Convert boolean to float (0 or 1)\n",
    "    #     agent_x, agent_y = self.agent_position\n",
    "        \n",
    "    #     observation = np.concatenate((flattened_grid, flattened_visited, [agent_x, agent_y]))\n",
    "    #     return observation\n",
    "\n",
    "\n",
    "    def get_observation(self):\n",
    "        # Create a 3D tensor for the observation\n",
    "        agent_channel = np.zeros(self.grid_size)\n",
    "        x, y = self.agent_position\n",
    "        agent_channel[x, y] = 1  # One-hot encode the agent's position\n",
    "        observation = np.stack([\n",
    "            self.grid,  # Channel 1\n",
    "            self.visited,   # Channel 2\n",
    "            agent_channel        # Channel 3\n",
    "        ], axis=0)  # Stack channels along a new dimension\n",
    "        \n",
    "        return observation"
   ]
  },
  {
   "cell_type": "code",
   "execution_count": 274,
   "metadata": {},
   "outputs": [],
   "source": [
    "fixed_grids = [\n",
    "    create_grid('square', 100, (80,80), 0, -1),\n",
    "    create_grid('square', 100, (40,40), 0, -1),\n",
    "    create_grid('rectangle', 100, (80,40), 0, -1),\n",
    "]"
   ]
  },
  {
   "cell_type": "code",
   "execution_count": 275,
   "metadata": {},
   "outputs": [
    {
     "name": "stdout",
     "output_type": "stream",
     "text": [
      "EnvSpec(id='dynamic_grid_env', entry_point='customGridEnv', reward_threshold=None, nondeterministic=False, max_episode_steps=None, order_enforce=True, autoreset=False, disable_env_checker=False, apply_api_compatibility=False, kwargs={}, namespace=None, name='dynamic_grid_env', version=None)\n"
     ]
    }
   ],
   "source": [
    "from gym.envs.registration import register\n",
    "\n",
    "register(\n",
    "    id='dynamic_grid_env',  # This should match your env name in the config\n",
    "    entry_point='customGridEnv',  # Adjust to your environment class path\n",
    ")\n",
    "print(gym.envs.registry['dynamic_grid_env'])"
   ]
  },
  {
   "cell_type": "code",
   "execution_count": 276,
   "metadata": {},
   "outputs": [
    {
     "name": "stdout",
     "output_type": "stream",
     "text": [
      "Box(-2.0, 105.0, (3, 100, 100), float32)\n",
      "(array([[[0., 0., 0., ..., 0., 0., 0.],\n",
      "        [0., 0., 0., ..., 0., 0., 0.],\n",
      "        [0., 0., 0., ..., 0., 0., 0.],\n",
      "        ...,\n",
      "        [0., 0., 0., ..., 0., 0., 0.],\n",
      "        [0., 0., 0., ..., 0., 0., 0.],\n",
      "        [0., 0., 0., ..., 0., 0., 0.]],\n",
      "\n",
      "       [[0., 0., 0., ..., 0., 0., 0.],\n",
      "        [0., 0., 0., ..., 0., 0., 0.],\n",
      "        [0., 0., 0., ..., 0., 0., 0.],\n",
      "        ...,\n",
      "        [0., 0., 0., ..., 0., 0., 0.],\n",
      "        [0., 0., 0., ..., 0., 0., 0.],\n",
      "        [0., 0., 0., ..., 0., 0., 0.]],\n",
      "\n",
      "       [[1., 0., 0., ..., 0., 0., 0.],\n",
      "        [0., 0., 0., ..., 0., 0., 0.],\n",
      "        [0., 0., 0., ..., 0., 0., 0.],\n",
      "        ...,\n",
      "        [0., 0., 0., ..., 0., 0., 0.],\n",
      "        [0., 0., 0., ..., 0., 0., 0.],\n",
      "        [0., 0., 0., ..., 0., 0., 0.]]]), -500, False, {})\n"
     ]
    }
   ],
   "source": [
    "env = customGridEnv(create_grid('square', 100, (80,80), 0, -1))\n",
    "print(env.observation_space)\n",
    "env.reset()\n",
    "print(env.step(0))  # Test the first action"
   ]
  },
  {
   "cell_type": "code",
   "execution_count": 277,
   "metadata": {},
   "outputs": [
    {
     "name": "stdout",
     "output_type": "stream",
     "text": [
      "Using cuda device\n",
      "Wrapping the env with a `Monitor` wrapper\n",
      "Wrapping the env in a DummyVecEnv.\n"
     ]
    },
    {
     "name": "stderr",
     "output_type": "stream",
     "text": [
      "c:\\Users\\cheng\\anaconda3\\lib\\site-packages\\stable_baselines3\\common\\vec_env\\patch_gym.py:49: UserWarning: You provided an OpenAI Gym environment. We strongly recommend transitioning to Gymnasium environments. Stable-Baselines3 is automatically wrapping your environments in a compatibility layer, which could potentially cause issues.\n",
      "  warnings.warn(\n"
     ]
    }
   ],
   "source": [
    "from stable_baselines3 import PPO, DQN\n",
    "\n",
    "# Define your environment\n",
    "env = customGridEnv(create_grid('square', 100, (80, 80), 0, -1))\n",
    "eval_env = customGridEnv(create_grid('square', 100, (60, 60), 0, -1))\n",
    "# Create the PPO model\n",
    "model = PPO(\"MlpPolicy\", env, verbose=1)\n",
    "modelDQN = DQN(\"MlpPolicy\", env, verbose=1)\n"
   ]
  },
  {
   "cell_type": "code",
   "execution_count": 279,
   "metadata": {},
   "outputs": [],
   "source": [
    "def evaluate_policy(model, env, total_timesteps=1000, num_episodes=5):\n",
    "    total_rewards = 0\n",
    "    for _ in range(num_episodes):\n",
    "        obs = env.reset()\n",
    "        episode_reward = 0\n",
    "        for i in range(total_timesteps):\n",
    "            action, _ = model.predict(obs)\n",
    "            obs, reward, done, _ = env.step(action)\n",
    "            episode_reward += reward\n",
    "        total_rewards += episode_reward\n",
    "    average_reward = total_rewards / num_episodes\n",
    "    return average_reward"
   ]
  },
  {
   "cell_type": "code",
   "execution_count": null,
   "metadata": {},
   "outputs": [],
   "source": [
    "# Train the model\n",
    "max_runs = 25\n",
    "total_timesteps = 5000\n",
    "\n",
    "for epoch in range(max_runs):\n",
    "    modelDQN.learn(total_timesteps=total_timesteps, log_interval=total_timesteps)\n",
    "    avg_reward = evaluate_policy(modelDQN, eval_env, total_timesteps)\n",
    "    print(f\"Epoch {epoch+1} done. Average Reward: {avg_reward}\")\n"
   ]
  },
  {
   "cell_type": "code",
   "execution_count": 280,
   "metadata": {},
   "outputs": [
    {
     "name": "stdout",
     "output_type": "stream",
     "text": [
      "Epoch 1 done. Average Reward: -570602.0\n",
      "Epoch 2 done. Average Reward: 62041.0\n",
      "Epoch 3 done. Average Reward: -800116.0\n",
      "Epoch 4 done. Average Reward: 146427.0\n",
      "Epoch 5 done. Average Reward: 101817.0\n",
      "Epoch 6 done. Average Reward: 200659.0\n",
      "Epoch 7 done. Average Reward: -7708253.0\n",
      "Epoch 8 done. Average Reward: -7011805.0\n",
      "Epoch 9 done. Average Reward: -6565512.0\n",
      "Epoch 10 done. Average Reward: -6672330.0\n",
      "Epoch 11 done. Average Reward: -6508977.0\n",
      "Epoch 12 done. Average Reward: -5330177.0\n",
      "Epoch 13 done. Average Reward: -4277474.0\n",
      "Epoch 14 done. Average Reward: -2046408.0\n",
      "Epoch 15 done. Average Reward: 236066.0\n",
      "Epoch 16 done. Average Reward: -265616.0\n",
      "Epoch 17 done. Average Reward: 213063.0\n",
      "Epoch 18 done. Average Reward: 175499.0\n",
      "Epoch 19 done. Average Reward: 226887.0\n",
      "Epoch 20 done. Average Reward: 241013.0\n",
      "Epoch 21 done. Average Reward: 192437.0\n",
      "Epoch 22 done. Average Reward: -478203.0\n",
      "Epoch 23 done. Average Reward: 322799.0\n",
      "Epoch 24 done. Average Reward: -9081.0\n",
      "Epoch 25 done. Average Reward: 355925.0\n"
     ]
    }
   ],
   "source": [
    "# Train the model\n",
    "max_runs = 25\n",
    "total_timesteps = 5000\n",
    "\n",
    "for epoch in range(max_runs):\n",
    "    model.learn(total_timesteps=total_timesteps, log_interval=total_timesteps)\n",
    "    avg_reward = evaluate_policy(model, eval_env, total_timesteps)\n",
    "    print(f\"Epoch {epoch+1} done. Average Reward: {avg_reward}\")\n"
   ]
  },
  {
   "cell_type": "code",
   "execution_count": 281,
   "metadata": {},
   "outputs": [
    {
     "name": "stdout",
     "output_type": "stream",
     "text": [
      "5000 steps with total reward: 303505\n"
     ]
    }
   ],
   "source": [
    "obs = env.reset()\n",
    "\n",
    "total_reward = 0\n",
    "steps = 0\n",
    "\n",
    "for _ in range(5000):\n",
    "    # Get action from the model\n",
    "    action, _ = model.predict(obs)  # Get the predicted action\n",
    "    obs, reward, done, info = env.step(action)  # Step the environment\n",
    "    total_reward += reward  # Accumulate rewards\n",
    "\n",
    "    steps += 1\n",
    "\n",
    "print(f\"{steps} steps with total reward: {total_reward}\")"
   ]
  },
  {
   "cell_type": "code",
   "execution_count": 282,
   "metadata": {},
   "outputs": [
    {
     "name": "stdout",
     "output_type": "stream",
     "text": [
      "5000 steps with total reward: 308180\n"
     ]
    }
   ],
   "source": [
    "obs = eval_env.reset()\n",
    "\n",
    "total_reward = 0\n",
    "steps = 0\n",
    "\n",
    "for _ in range(5000):\n",
    "    # Get action from the model\n",
    "    action, _ = model.predict(obs)  # Get the predicted action\n",
    "    obs, reward, done, info = eval_env.step(action)  # Step the environment\n",
    "    total_reward += reward  # Accumulate rewards\n",
    "\n",
    "    steps += 1\n",
    "\n",
    "print(f\"{steps} steps with total reward: {total_reward}\")"
   ]
  },
  {
   "cell_type": "code",
   "execution_count": 283,
   "metadata": {},
   "outputs": [
    {
     "data": {
      "image/png": "[encoded data removed]",
      "text/plain": [
       "<Figure size 1000x1000 with 1 Axes>"
      ]
     },
     "metadata": {},
     "output_type": "display_data"
    },
    {
     "data": {
      "image/png": "[encoded data removed]",
      "text/plain": [
       "<Figure size 1000x1000 with 1 Axes>"
      ]
     },
     "metadata": {},
     "output_type": "display_data"
    }
   ],
   "source": [
    "import numpy as np\n",
    "import matplotlib.pyplot as plt\n",
    "\n",
    "# Function to visualize the grid with unique colors\n",
    "def plot_colored_grid(env_grid):\n",
    "    # Define the possible values and their corresponding colors\n",
    "    possible_values = [-1, -2, 100, 101, 102, 103, 104, 105, 0, 1, 2, 3]\n",
    "    colors = [\n",
    "        (0.0, 0.0, 0.0),   # Black for -1\n",
    "        (0.5, 0.5, 0.5),   # Gray for -2\n",
    "        (1.0, 0.0, 0.0),   # Red for 100\n",
    "        (0.0, 1.0, 0.0),   # Green for 101\n",
    "        (0.0, 0.0, 1.0),   # Blue for 102\n",
    "        (1.0, 1.0, 0.0),   # Yellow for 103\n",
    "        (1.0, 0.0, 1.0),   # Magenta for 104\n",
    "        (0.0, 1.0, 1.0),   # Cyan for 105\n",
    "        (1.0, 0.5, 0.0),   # Orange for 0\n",
    "        (0.5, 0.5, 0.0),   # Olive for 1\n",
    "        (0.5, 0.0, 0.5),   # Purple for 2\n",
    "        (0.5, 0.5, 0.5),   # Dark Gray for 3\n",
    "    ]\n",
    "\n",
    "    # Create a color map\n",
    "    color_map = {value: color for value, color in zip(possible_values, colors)}\n",
    "    colored_grid = np.zeros((env_grid.shape[0], env_grid.shape[1], 3))\n",
    "\n",
    "\n",
    "    # Fill the colored_grid with corresponding colors\n",
    "    for value, color in color_map.items():\n",
    "        colored_grid[env_grid == value] = color\n",
    "\n",
    "    plt.figure(figsize=(10, 10))\n",
    "    plt.imshow(colored_grid)\n",
    "    plt.axis('off')  # Hide the axes\n",
    "    plt.title(\"100x100 Grid with Unique Colors\")\n",
    "    plt.show()\n",
    "\n",
    "# Call the function to plot the grid\n",
    "plot_colored_grid(env.grid)\n",
    "plot_colored_grid(eval_env.grid)"
   ]
  },
  {
   "cell_type": "code",
   "execution_count": null,
   "metadata": {},
   "outputs": [],
   "source": []
  }
 ],
 "metadata": {
  "kernelspec": {
   "display_name": "base",
   "language": "python",
   "name": "python3"
  },
  "language_info": {
   "codemirror_mode": {
    "name": "ipython",
    "version": 3
   },
   "file_extension": ".py",
   "mimetype": "text/x-python",
   "name": "python",
   "nbconvert_exporter": "python",
   "pygments_lexer": "ipython3",
   "version": "3.9.13"
  }
 },
 "nbformat": 4,
 "nbformat_minor": 2
}
