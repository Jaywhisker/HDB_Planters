{
 "cells": [
  {
   "cell_type": "code",
   "execution_count": 1,
   "metadata": {},
   "outputs": [],
   "source": [
    "#Defining some Classic Variables and Values\n",
    "\n",
    "environment_variables = {0: 'road', 1: 'footpath', 2: 'playground', 3: 'passive'}\n",
    "theme_variables = {-1: 'naturalistic', -2: 'manicured'}\n"
   ]
  },
  {
   "cell_type": "code",
   "execution_count": 2,
   "metadata": {},
   "outputs": [],
   "source": [
    "#Action space variables\n",
    "#Look into action masking for possible actions\n",
    "\n",
    "# Missing Colour, Trunk texture for NOW\n",
    "class plantSpecies():\n",
    "    def __init__(self, species_id, type, height, radius, sun_requirements, attracted_species, fragrant, fruit_bearing, texture) -> None:\n",
    "        self.species_id = species_id\n",
    "        self.type = type\n",
    "        self.height = height\n",
    "        self.radius = radius\n",
    "        self.sun_requirements = sun_requirements\n",
    "        self.attracted_species = attracted_species\n",
    "        self.fragrant = fragrant\n",
    "        self.fruit_bearing = fruit_bearing\n",
    "        self.texture = texture\n",
    "\n",
    "\n",
    "species1 = plantSpecies(100, 'shrub', 0.5, 2, 'low', None, False, False, 'thin')\n",
    "species2 = plantSpecies(101, 'shrub', 0.75, 3, 'high', 'butterfly', True, True, 'medium')\n",
    "species3 = plantSpecies(102, 'shrub', 1, 3, 'low', 'bee', False, True, 'coarse')\n",
    "species4 = plantSpecies(103, 'tree', 10, 2, 'high', None, None, True, None)\n",
    "species5 = plantSpecies(104, 'tree', 15, 3, 'high', None, None, True, None)\n",
    "species6 = plantSpecies(105, 'tree', 20, 4, 'high', None, None, True, None)"
   ]
  },
  {
   "cell_type": "code",
   "execution_count": 3,
   "metadata": {},
   "outputs": [],
   "source": [
    "import numpy\n",
    "# Define Set Environment\n",
    "def create_grid(type, max_size, shape_size, context_value, shape_value):\n",
    "    grid = np.full((max_size, max_size), context_value)\n",
    "    \n",
    "    start_x_value = (max_size - shape_size[0])//2\n",
    "    start_y_value = (max_size - shape_size[1])//2\n",
    "    \n",
    "    if type == 'square':\n",
    "        grid[start_y_value:start_y_value+shape_size[1], start_x_value:start_x_value+shape_size[0]] = shape_value\n",
    "\n",
    "    elif type == 'circle':\n",
    "        for x in range(max_size):\n",
    "            for y in range(max_size):\n",
    "                if (x-start_x_value) **2 + (y - start_y_value)**2 <= shape_size[0]**2:\n",
    "                    grid[y,x] = shape_value\n",
    "\n",
    "    elif type == 'rectangle':\n",
    "        grid[start_y_value:start_y_value+shape_size[1], start_x_value:start_x_value+shape_size[0]] = shape_value\n",
    "\n",
    "    return grid"
   ]
  },
  {
   "cell_type": "code",
   "execution_count": 66,
   "metadata": {},
   "outputs": [
    {
     "name": "stdout",
     "output_type": "stream",
     "text": [
      "[[30. 29. 28. ... 28. 29. 30.]\n",
      " [29. 28. 27. ... 27. 28. 29.]\n",
      " [28. 27. 26. ... 26. 27. 28.]\n",
      " ...\n",
      " [28. 27. 26. ... 26. 27. 28.]\n",
      " [29. 28. 27. ... 27. 28. 29.]\n",
      " [30. 29. 28. ... 28. 29. 30.]]\n"
     ]
    }
   ],
   "source": [
    "import numpy as np\n",
    "\n",
    "def compute_distances(grid_size, planting_size):    \n",
    "    row_start = (grid_size - planting_size[1]) // 2\n",
    "    row_end = row_start + planting_size[1] - 1\n",
    "    col_start = (grid_size - planting_size[0]) // 2\n",
    "    col_end = col_start + planting_size[0] - 1\n",
    "    \n",
    "    # Create a distance array\n",
    "    distances = np.zeros((grid_size, grid_size))\n",
    "    \n",
    "    for r in range(grid_size):\n",
    "        for c in range(grid_size):\n",
    "            # If the cell is inside the 60x60 block, the distance is 0\n",
    "            if row_start <= r <= row_end and col_start <= c <= col_end:\n",
    "                distances[r, c] = 0\n",
    "            else:\n",
    "                # Compute the Manhattan distance to the closest edge of the 60x60 block\n",
    "                dist_r = min(abs(r - row_start), abs(r - row_end))\n",
    "                dist_c = min(abs(c - col_start), abs(c - col_end))\n",
    "                distances[r, c] = dist_r + dist_c\n",
    "    \n",
    "    return distances\n",
    "\n",
    "# Example usage:\n",
    "grid_size = 100\n",
    "center_size = (80, 60)\n",
    "\n",
    "distances = compute_distances(grid_size, center_size)\n",
    "print(distances)"
   ]
  },
  {
   "cell_type": "code",
   "execution_count": 525,
   "metadata": {},
   "outputs": [],
   "source": [
    "import numpy as np\n",
    "import gym\n",
    "from gym import spaces\n",
    "\n",
    "# Environment Class\n",
    "class customGridEnv(gym.Env):\n",
    "    def __init__(self, grid, planting_size, agent_position=None):\n",
    "        super(customGridEnv, self).__init__()\n",
    "        self.grid_size= grid.shape\n",
    "        self.planting_size = planting_size\n",
    "        self.values = [-1, -2, 100, 101, 102, 103, 104, 105, 0, 1, 2, 3]\n",
    "        self.values_to_index = {value: index for index, value in enumerate(self.values)}\n",
    "        \n",
    "        self.action_to_value = {0: 'moveup', 1: 'moveleft', 2: 'moveright', 3: 'movedown', 4:'movediagtr', 5:\"movediagbl\", 6:\"movediagbr\", 7:\"movediagtl\"}\n",
    "        self.id_to_species = {100: species1, 101: species2, 102:species3, 103:species4, 104:species5, 105:species6}\n",
    "\n",
    "        self.agent_position = agent_position if agent_position else self.randomise_starting_position(self.grid_size[0], self.planting_size)\n",
    "        self.initial_agent_position = agent_position\n",
    "        \n",
    "        self.reward_space = compute_distances(self.grid_size[0], planting_size)\n",
    "        # Initialize your grid\n",
    "        self.grid = grid\n",
    "        self.initial_grid = grid.copy()\n",
    "\n",
    "        self.action_space = spaces.Discrete(len(self.action_to_value)) \n",
    "        self.visited = np.zeros(self.grid_size, dtype=bool)  # False means unvisited\n",
    "        \n",
    "        obv_spaces = {\n",
    "            'grid': spaces.Box(low=-2, high=105, shape=self.grid_size),  # The grid itself\n",
    "            'visited': spaces.Box(low=0, high=1, shape=self.grid_size),  # The visited cells (0 or 1)\n",
    "            'reward': spaces.Box(low=-np.inf, high=np.inf, shape=self.grid_size),  # The reward space\n",
    "            'agent_location': spaces.Box(low=0, high=max(self.grid_size[0], self.grid_size[1]), shape=(2,)),  # Agent's (x, y) position\n",
    "        }\n",
    "\n",
    "        self.observation_space = spaces.Dict(obv_spaces)\n",
    "\n",
    "\n",
    "    def randomise_starting_position(self, grid_size, planting_size): \n",
    "\n",
    "        start_x_value = (grid_size - planting_size[0]) // 2\n",
    "        start_y_value = (grid_size - planting_size[1]) // 2\n",
    "        end_x_value = start_x_value + planting_size[0]\n",
    "        end_y_value = start_y_value + planting_size[1]\n",
    "\n",
    "        while True:\n",
    "            x = np.random.randint(0, grid_size, size=1)[0]\n",
    "            y = np.random.randint(0, grid_size, size=1)[0]\n",
    "\n",
    "            if not start_x_value <= x <= end_x_value and not start_y_value <= y <= end_y_value:\n",
    "                return (x,y)\n",
    "        \n",
    "\n",
    "    def reset(self):\n",
    "        self.agent_position = self.initial_agent_position if self.initial_agent_position else self.randomise_starting_position(self.grid_size[0], self.planting_size)\n",
    "        self.visited = np.zeros(self.grid_size, dtype=bool)  # False means unvisited\n",
    "        self.grid = self.initial_grid.copy()  # Reset the grid\n",
    "        return self.get_observation()\n",
    "\n",
    "\n",
    "    def step(self, action):\n",
    "        reward = 0\n",
    "        action_to_take = self.action_to_value[int(action)]\n",
    "\n",
    "        if action_to_take in ['moveup', 'movedown', 'moveleft', 'moveright', \"movediagbl\", \"movediagbr\", \"movediagtl\", \"movediagtr\"]:\n",
    "            reward += self.calculate_movement_reward(action_to_take)\n",
    "\n",
    "        terminated = np.all(self.visited) or self.grid[self.agent_position[1], self.agent_position[0]] in [-1, -2]\n",
    "        return self.get_observation(), reward, terminated,  {}\n",
    "\n",
    "    \n",
    "    def calculate_movement_reward(self, action_to_take):\n",
    "        prev_x, prev_y = self.agent_position\n",
    "\n",
    "\n",
    "        if action_to_take == 'moveup' and prev_y > 0:\n",
    "            self.agent_position = (prev_x, prev_y-1)\n",
    "\n",
    "        elif action_to_take == 'movedown' and prev_y < self.grid_size[1]-1:\n",
    "            self.agent_position = (prev_x, prev_y+1)\n",
    "\n",
    "        elif action_to_take == 'moveleft' and prev_x > 0:\n",
    "            self.agent_position = (prev_x-1, prev_y)\n",
    "\n",
    "        elif action_to_take == 'moveright' and prev_x < self.grid_size[0]-1:\n",
    "            self.agent_position = (prev_x+1, prev_y)\n",
    "        \n",
    "        elif action_to_take == 'movediagtr' and prev_x < self.grid_size[0]-1 and prev_y > 0:\n",
    "            self.agent_position = (prev_x+1, prev_y-1)\n",
    "\n",
    "        elif action_to_take == 'movediagtl' and prev_x > 0 and prev_y > 0:\n",
    "            self.agent_position = (prev_x-1, prev_y-1)\n",
    "        \n",
    "        elif action_to_take == 'movediagbl' and prev_x > 0 and prev_y < self.grid_size[1]-1:\n",
    "            self.agent_position = (prev_x-1, prev_y+1)\n",
    "        \n",
    "        elif action_to_take == 'movediagbr' and prev_x < self.grid_size[0]-1 and prev_y < self.grid_size[1]-1:\n",
    "            self.agent_position = (prev_x+1, prev_y+1)\n",
    "        \n",
    "        else:\n",
    "            # Out of bounds\n",
    "            return -50\n",
    "        \n",
    "        # Reward for visiting\n",
    "        if self.visited[self.agent_position[1], self.agent_position[0]]:\n",
    "            return -10\n",
    "\n",
    "        else:\n",
    "            self.visited[self.agent_position[1], self.agent_position[0]] = True\n",
    "            return 1/((self.reward_space[self.agent_position[1], self.agent_position[0]]) + 1)\n",
    "        \n",
    "\n",
    "    def get_observation(self):\n",
    "        return {\n",
    "            'grid': self.grid.astype(np.float32),\n",
    "            'visited': self.visited.astype(np.float32),\n",
    "            'reward': self.reward_space.astype(np.float32),\n",
    "            'agent_location': np.array(self.agent_position, dtype=np.int32)\n",
    "        }"
   ]
  },
  {
   "cell_type": "code",
   "execution_count": 526,
   "metadata": {},
   "outputs": [],
   "source": [
    "from stable_baselines3.common.vec_env import SubprocVecEnv, DummyVecEnv\n",
    "\n",
    "def make_env(grid, planting_size, agent_position):\n",
    "    def _init():\n",
    "        return customGridEnv(grid, planting_size, agent_position)\n",
    "    return _init\n",
    "\n",
    "all_envs = [\n",
    "    [create_grid('square', 100, (30, 30), 0, -1), (30,30), None],\n",
    "    [create_grid('square', 100, (80, 80), 0, -1), (80,80), None],\n",
    "    [create_grid('rectangle', 100, (45, 90), 0, -1), (45, 90), None],\n",
    "    [create_grid('rectangle', 100, (50, 15), 0, -1), (50, 15), None]\n",
    "]\n",
    "\n",
    "envs = DummyVecEnv([make_env(env[0], env[1], env[2]) for env in all_envs])\n"
   ]
  },
  {
   "cell_type": "code",
   "execution_count": 530,
   "metadata": {},
   "outputs": [],
   "source": [
    "from stable_baselines3 import PPO, DQN, A2C\n",
    "\n",
    "# Define your environment\n",
    "env = customGridEnv(create_grid('square', 100, (80, 80), 0, -1), (80,80))\n",
    "eval_env = customGridEnv(create_grid('square', 100, (60, 60), 0, -1), (60,60), (81,50))"
   ]
  },
  {
   "cell_type": "code",
   "execution_count": 589,
   "metadata": {},
   "outputs": [],
   "source": [
    "model = A2C(\"MultiInputPolicy\", \n",
    "             envs, \n",
    "             verbose=0,\n",
    "             n_steps=30)"
   ]
  },
  {
   "cell_type": "code",
   "execution_count": 637,
   "metadata": {},
   "outputs": [
    {
     "data": {
      "application/vnd.jupyter.widget-view+json": {
       "model_id": "8743af13365144aeb152f8abccba26f7",
       "version_major": 2,
       "version_minor": 0
      },
      "text/plain": [
       "Output()"
      ]
     },
     "metadata": {},
     "output_type": "display_data"
    },
    {
     "data": {
      "text/html": [
       "<pre style=\"white-space:pre;overflow-x:auto;line-height:normal;font-family:Menlo,'DejaVu Sans Mono',consolas,'Courier New',monospace\"></pre>\n"
      ],
      "text/plain": []
     },
     "metadata": {},
     "output_type": "display_data"
    },
    {
     "name": "stdout",
     "output_type": "stream",
     "text": [
      "Average Reward: -5733.54869576005\n"
     ]
    }
   ],
   "source": [
    "# Train the model\n",
    "max_runs = 10000\n",
    "total_timesteps = max_runs* 30\n",
    "\n",
    "\n",
    "model.learn(total_timesteps=total_timesteps, progress_bar=True)\n",
    "avg_reward = evaluate_policy(model, eval_env, 1000)\n",
    "print(f\"Average Reward: {avg_reward}\")"
   ]
  },
  {
   "cell_type": "code",
   "execution_count": 662,
   "metadata": {},
   "outputs": [
    {
     "name": "stdout",
     "output_type": "stream",
     "text": [
      "40 steps with total reward: -154.7404401154401\n"
     ]
    },
    {
     "data": {
      "image/png": "[encoded data removed]",
      "text/plain": [
       "<Figure size 640x480 with 2 Axes>"
      ]
     },
     "metadata": {},
     "output_type": "display_data"
    }
   ],
   "source": [
    "import numpy as np\n",
    "import matplotlib.pyplot as plt\n",
    "\n",
    "obs = env.reset()\n",
    "\n",
    "total_reward = 0\n",
    "steps = 0\n",
    "\n",
    "for _ in range(1000):\n",
    "    # Get action from the model\n",
    "    action, _ = model.predict(obs)  # Get the predicted action\n",
    "    obs, reward, done, info = env.step(action)  # Step the environment\n",
    "    total_reward += reward  # Accumulate rewards\n",
    "\n",
    "    steps += 1\n",
    "\n",
    "    if done:\n",
    "        break\n",
    "\n",
    "print(f\"{steps} steps with total reward: {total_reward}\")\n",
    "\n",
    "# Plot the boolean array using matplotlib\n",
    "plt.imshow(env.visited, cmap='Greys', interpolation='none')\n",
    "\n",
    "# Optional: Add a color bar\n",
    "plt.colorbar(label=\"True/False\")\n",
    "\n",
    "# Set axis labels\n",
    "plt.xlabel(\"X-axis\")\n",
    "plt.ylabel(\"Y-axis\")\n",
    "\n",
    "# Show the plot\n",
    "plt.title(\"Boolean Array Visualization\")\n",
    "plt.show()"
   ]
  },
  {
   "cell_type": "code",
   "execution_count": 636,
   "metadata": {},
   "outputs": [],
   "source": [
    "model.save(\"./models/A2C_30_5000.zip\")"
   ]
  },
  {
   "cell_type": "code",
   "execution_count": 496,
   "metadata": {},
   "outputs": [],
   "source": [
    "# Create the PPO model\n",
    "model2 = PPO(\"MultiInputPolicy\", \n",
    "             envs, \n",
    "             n_steps=15,\n",
    "             n_epochs= 50,\n",
    "             batch_size= 15 * 4,\n",
    "             verbose=0)"
   ]
  },
  {
   "cell_type": "code",
   "execution_count": 497,
   "metadata": {},
   "outputs": [
    {
     "data": {
      "application/vnd.jupyter.widget-view+json": {
       "model_id": "c091f5db94044ae7a6dbaf0bf43b5000",
       "version_major": 2,
       "version_minor": 0
      },
      "text/plain": [
       "Output()"
      ]
     },
     "metadata": {},
     "output_type": "display_data"
    },
    {
     "data": {
      "text/html": [
       "<pre style=\"white-space:pre;overflow-x:auto;line-height:normal;font-family:Menlo,'DejaVu Sans Mono',consolas,'Courier New',monospace\"></pre>\n"
      ],
      "text/plain": []
     },
     "metadata": {},
     "output_type": "display_data"
    },
    {
     "name": "stdout",
     "output_type": "stream",
     "text": [
      "Average Reward: -10965.506580578427\n"
     ]
    }
   ],
   "source": [
    "# Train the model\n",
    "max_runs = 5000\n",
    "total_timesteps = max_runs* 15\n",
    "\n",
    "\n",
    "model2.learn(total_timesteps=total_timesteps, progress_bar=True)\n",
    "avg_reward = evaluate_policy(model2, eval_env, 1000)\n",
    "print(f\"Average Reward: {avg_reward}\")"
   ]
  },
  {
   "cell_type": "code",
   "execution_count": null,
   "metadata": {},
   "outputs": [],
   "source": [
    "# Train the model\n",
    "max_runs = 100\n",
    "total_timesteps = max_runs* 25\n",
    "\n",
    "for epoch in range(max_runs):\n",
    "    model2.learn(total_timesteps=total_timesteps, log_interval=total_timesteps)\n",
    "    avg_reward = evaluate_policy(model2, eval_env, total_timesteps)\n",
    "    print(f\"Epoch {epoch+1} done. Average Reward: {avg_reward}\")"
   ]
  },
  {
   "cell_type": "code",
   "execution_count": 509,
   "metadata": {},
   "outputs": [
    {
     "name": "stdout",
     "output_type": "stream",
     "text": [
      "108 steps with total reward: -1261.3799953142843\n"
     ]
    },
    {
     "data": {
      "image/png": "[encoded data removed]",
      "text/plain": [
       "<Figure size 640x480 with 2 Axes>"
      ]
     },
     "metadata": {},
     "output_type": "display_data"
    }
   ],
   "source": [
    "import numpy as np\n",
    "import matplotlib.pyplot as plt\n",
    "\n",
    "obs = env.reset()\n",
    "\n",
    "total_reward = 0\n",
    "steps = 0\n",
    "\n",
    "for _ in range(1000):\n",
    "    # Get action from the model\n",
    "    action, _ = model2.predict(obs)  # Get the predicted action\n",
    "    obs, reward, done, info = env.step(action)  # Step the environment\n",
    "    total_reward += reward  # Accumulate rewards\n",
    "\n",
    "    steps += 1\n",
    "\n",
    "    if done:\n",
    "        break\n",
    "\n",
    "print(f\"{steps} steps with total reward: {total_reward}\")\n",
    "\n",
    "# Plot the boolean array using matplotlib\n",
    "plt.imshow(env.visited, cmap='Greys', interpolation='none')\n",
    "\n",
    "# Optional: Add a color bar\n",
    "plt.colorbar(label=\"True/False\")\n",
    "\n",
    "# Set axis labels\n",
    "plt.xlabel(\"X-axis\")\n",
    "plt.ylabel(\"Y-axis\")\n",
    "\n",
    "# Show the plot\n",
    "plt.title(\"Boolean Array Visualization\")\n",
    "plt.show()"
   ]
  },
  {
   "cell_type": "code",
   "execution_count": 571,
   "metadata": {},
   "outputs": [],
   "source": [
    "eval_env = customGridEnv(create_grid('circle', 100, (30, 30), 0, -1), (60,60), (90,10))"
   ]
  },
  {
   "cell_type": "code",
   "execution_count": 581,
   "metadata": {},
   "outputs": [
    {
     "name": "stdout",
     "output_type": "stream",
     "text": [
      "1000 steps with total reward: -12149.707032326069\n"
     ]
    },
    {
     "data": {
      "image/png": "[encoded data removed]",
      "text/plain": [
       "<Figure size 640x480 with 2 Axes>"
      ]
     },
     "metadata": {},
     "output_type": "display_data"
    }
   ],
   "source": [
    "import numpy as np\n",
    "import matplotlib.pyplot as plt\n",
    "\n",
    "obs = eval_env.reset()\n",
    "\n",
    "total_reward = 0\n",
    "steps = 0\n",
    "\n",
    "for _ in range(1000):\n",
    "    # Get action from the model\n",
    "    action, _ = model2.predict(obs)  # Get the predicted action\n",
    "    obs, reward, done, info = eval_env.step(action)  # Step the environment\n",
    "    total_reward += reward  # Accumulate rewards\n",
    "\n",
    "    steps += 1\n",
    "\n",
    "    if done:\n",
    "        break\n",
    "\n",
    "print(f\"{steps} steps with total reward: {total_reward}\")\n",
    "\n",
    "# Plot the boolean array using matplotlib\n",
    "plt.imshow(eval_env.visited, cmap='Greys', interpolation='none')\n",
    "\n",
    "# Optional: Add a color bar\n",
    "plt.colorbar(label=\"True/False\")\n",
    "\n",
    "# Set axis labels\n",
    "plt.xlabel(\"X-axis\")\n",
    "plt.ylabel(\"Y-axis\")\n",
    "\n",
    "# Show the plot\n",
    "plt.title(\"Boolean Array Visualization\")\n",
    "plt.show()"
   ]
  },
  {
   "cell_type": "code",
   "execution_count": 28,
   "metadata": {},
   "outputs": [],
   "source": [
    "def evaluate_policy(model, env, total_timesteps=1000, num_episodes=5):\n",
    "    total_rewards = 0\n",
    "    for _ in range(num_episodes):\n",
    "        obs = env.reset()\n",
    "        episode_reward = 0\n",
    "        for i in range(total_timesteps):\n",
    "            action, _ = model.predict(obs)\n",
    "            obs, reward, done, _ = env.step(action)\n",
    "            episode_reward += reward\n",
    "            if done:\n",
    "                break\n",
    "            \n",
    "        total_rewards += episode_reward\n",
    "    average_reward = total_rewards / num_episodes\n",
    "    return average_reward"
   ]
  },
  {
   "cell_type": "code",
   "execution_count": 29,
   "metadata": {},
   "outputs": [
    {
     "name": "stdout",
     "output_type": "stream",
     "text": [
      "Epoch 1 done. Average Reward: -76431.0\n",
      "Epoch 2 done. Average Reward: -75632.0\n",
      "Epoch 3 done. Average Reward: -222463.0\n",
      "Epoch 4 done. Average Reward: -293944.0\n",
      "Epoch 5 done. Average Reward: -84371.0\n",
      "Epoch 6 done. Average Reward: -78526.0\n",
      "Epoch 7 done. Average Reward: -53926.0\n",
      "Epoch 8 done. Average Reward: -86177.0\n",
      "Epoch 9 done. Average Reward: -58278.0\n",
      "Epoch 10 done. Average Reward: -81759.0\n",
      "Epoch 11 done. Average Reward: -89306.0\n",
      "Epoch 12 done. Average Reward: -76045.0\n",
      "Epoch 13 done. Average Reward: -122592.0\n",
      "Epoch 14 done. Average Reward: -94537.0\n",
      "Epoch 15 done. Average Reward: -80287.0\n",
      "Epoch 16 done. Average Reward: -73003.0\n",
      "Epoch 17 done. Average Reward: -74815.0\n",
      "Epoch 18 done. Average Reward: -80225.0\n",
      "Epoch 19 done. Average Reward: -81993.0\n",
      "Epoch 20 done. Average Reward: -103980.0\n",
      "Epoch 21 done. Average Reward: -108056.0\n",
      "Epoch 22 done. Average Reward: -77163.0\n",
      "Epoch 23 done. Average Reward: -103281.0\n",
      "Epoch 24 done. Average Reward: -78811.0\n",
      "Epoch 25 done. Average Reward: -100006.0\n",
      "Epoch 26 done. Average Reward: -174674.0\n",
      "Epoch 27 done. Average Reward: -87935.0\n",
      "Epoch 28 done. Average Reward: -113664.0\n",
      "Epoch 29 done. Average Reward: -94888.0\n",
      "Epoch 30 done. Average Reward: -101914.0\n"
     ]
    }
   ],
   "source": [
    "# Train the model\n",
    "max_runs = 30\n",
    "total_timesteps = 10000\n",
    "\n",
    "for epoch in range(max_runs):\n",
    "    model.learn(total_timesteps=total_timesteps, log_interval=total_timesteps)\n",
    "    avg_reward = evaluate_policy(model, eval_env, total_timesteps)\n",
    "    print(f\"Epoch {epoch+1} done. Average Reward: {avg_reward}\")"
   ]
  },
  {
   "cell_type": "code",
   "execution_count": 37,
   "metadata": {},
   "outputs": [
    {
     "name": "stdout",
     "output_type": "stream",
     "text": [
      "10000 steps with total reward: -123425\n"
     ]
    }
   ],
   "source": [
    "obs = env.reset()\n",
    "\n",
    "total_reward = 0\n",
    "steps = 0\n",
    "\n",
    "for _ in range(total_timesteps):\n",
    "    # Get action from the model\n",
    "    action, _ = model.predict(obs)  # Get the predicted action\n",
    "    obs, reward, done, info = env.step(action)  # Step the environment\n",
    "    total_reward += reward  # Accumulate rewards\n",
    "\n",
    "    steps += 1\n",
    "\n",
    "    if done:\n",
    "        break\n",
    "\n",
    "print(f\"{steps} steps with total reward: {total_reward}\")"
   ]
  },
  {
   "cell_type": "code",
   "execution_count": 36,
   "metadata": {},
   "outputs": [
    {
     "data": {
      "image/png": "[encoded data removed]",
      "text/plain": [
       "<Figure size 640x480 with 2 Axes>"
      ]
     },
     "metadata": {},
     "output_type": "display_data"
    }
   ],
   "source": [
    "import numpy as np\n",
    "import matplotlib.pyplot as plt\n",
    "\n",
    "# Plot the boolean array using matplotlib\n",
    "plt.imshow(env.visited, cmap='Greys', interpolation='none')\n",
    "\n",
    "# Optional: Add a color bar\n",
    "plt.colorbar(label=\"True/False\")\n",
    "\n",
    "# Set ticks\n",
    "plt.xticks(range(env.visited.shape[1]))\n",
    "plt.yticks(range(env.visited.shape[0]))\n",
    "\n",
    "# Set axis labels\n",
    "plt.xlabel(\"X-axis\")\n",
    "plt.ylabel(\"Y-axis\")\n",
    "\n",
    "# Show the plot\n",
    "plt.title(\"Boolean Array Visualization\")\n",
    "plt.show()\n"
   ]
  },
  {
   "cell_type": "code",
   "execution_count": null,
   "metadata": {},
   "outputs": [],
   "source": []
  }
 ],
 "metadata": {
  "kernelspec": {
   "display_name": "base",
   "language": "python",
   "name": "python3"
  },
  "language_info": {
   "codemirror_mode": {
    "name": "ipython",
    "version": 3
   },
   "file_extension": ".py",
   "mimetype": "text/x-python",
   "name": "python",
   "nbconvert_exporter": "python",
   "pygments_lexer": "ipython3",
   "version": "3.9.13"
  }
 },
 "nbformat": 4,
 "nbformat_minor": 2
}
