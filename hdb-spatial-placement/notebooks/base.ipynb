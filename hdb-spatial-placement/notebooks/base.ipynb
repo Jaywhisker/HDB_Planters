{
 "cells": [
  {
   "cell_type": "markdown",
   "metadata": {},
   "source": [
    "### Base Template with Perlin Noise Procedural Generative Environment "
   ]
  },
  {
   "cell_type": "code",
   "execution_count": 4,
   "metadata": {},
   "outputs": [],
   "source": [
    "import numpy as np\n",
    "import gym\n",
    "from gym import spaces\n",
    "import random\n",
    "from perlin_noise import PerlinNoise\n",
    "from scipy.spatial.distance import cdist\n",
    "\n",
    "# Environment Class\n",
    "class customSpatialEnv(gym.Env):\n",
    "    def __init__(self, octave:float, grid_size:tuple=(100,100)):\n",
    "        \"\"\"\n",
    "        Args:\n",
    "            octave (float): octave value from range [1-2] for perlin noise\n",
    "            grid_size (tuple): (w,h) of grid, defaults to (100,100)\n",
    "        \"\"\"\n",
    "        super(customSpatialEnv, self).__init__()\n",
    "\n",
    "        # Create 100x100 grid\n",
    "        self.grid_size = grid_size\n",
    "        self.octave = octave\n",
    "        self.grid, self.planting_coordinates = self._create_environment()\n",
    "\n",
    "        # TODO: The rest of your code \n",
    "        # PLACEHOLDERS to just make sure the code works\n",
    "        self.observation_space = spaces.Box(low=0, high=3, dtype=np.int8)\n",
    "        self.action_space = spaces.Box(low = 0, high = 1, shape = (3,), dtype = np.float32)\n",
    "        # It appears that there is no way to do 2 continuous and 1 discrete, might have to do the last float to be 0-0.33 to be Tree 0.34-0.66 to be Shrub etc\n",
    "        # Yall have to research abit more\n",
    "    \n",
    "    def _create_environment(self):\n",
    "        \"\"\"\n",
    "        Function to create a test environment\n",
    "        Runs perlin noise, dithers\n",
    "        Ensure that at least 7.5% is plantable\n",
    "        Filters to ensure minimum 10 grid between all coordinates\n",
    "\n",
    "        Returns:\n",
    "            planting_grid (np.ndarray): self.grid_size grid of 0 for unplantable and 1 for plantable\n",
    "            planting_coord (np.ndarray): (1, num_planting_coord) numpy array\n",
    "        \"\"\" \n",
    "        while True:\n",
    "            noise = PerlinNoise(octaves=self.octave, seed = random.randint(0, 50))\n",
    "            width, height = self.grid_size\n",
    "\n",
    "            # Create environment and dither\n",
    "            perlin_env = np.array([[noise([i/height, j/width]) for j in range(width)] for i in range(height)])\n",
    "            dithered_perlin_env = self._dither_environment(perlin_env)\n",
    "\n",
    "            # Check density, more than 7.5% must be plantable\n",
    "            planting_positions = np.argwhere(dithered_perlin_env == 1)\n",
    "            planting_density = len(planting_positions) / len(dithered_perlin_env.flatten())\n",
    "\n",
    "            # If planting density too low, recreate environment with a random grid\n",
    "            if planting_density > 7.5/100:\n",
    "                break\n",
    "\n",
    "        planting_grid, planting_coords  = self._filter_environment(planting_positions)\n",
    "\n",
    "        return planting_grid, planting_coords\n",
    "\n",
    "\n",
    "    def _dither_environment(self, perlin_env:np.ndarray):\n",
    "        \"\"\"\n",
    "        Function to dither perlin environment using bayer matrix\n",
    "        \n",
    "        Args:\n",
    "            perlin_env (np.ndarray): self.grid_size numpy array with random noise from perlin\n",
    "\n",
    "        Returns:\n",
    "            dithered_grid (np.ndarray): self.grid_size grid of 0 for unplantable and 1 for plantable\n",
    "        \"\"\"\n",
    "        # 4x4 Normalised Bayer matrix\n",
    "        bayer_matrix = np.array([\n",
    "            [0, 8, 2, 10],\n",
    "            [12, 4, 14, 6],\n",
    "            [3, 11, 1, 9],\n",
    "            [15, 7, 13, 5]\n",
    "        ]) / 16.0  # Normalisation\n",
    "\n",
    "        # Dither with Bayer Matrix\n",
    "        bayer_tile_size = bayer_matrix.shape[0]  # Size of the Bayer matrix (4x4)\n",
    "        dithered_grid = np.zeros_like(perlin_env)\n",
    "        width, height = self.grid_size\n",
    "\n",
    "        # Apply Bayer matrix\n",
    "        for y in range(height):\n",
    "            for x in range(width):\n",
    "                bayer_value = bayer_matrix[y % bayer_tile_size, x % bayer_tile_size]\n",
    "                dithered_grid[y, x] = 1 if perlin_env[y, x] > bayer_value else 0\n",
    "        \n",
    "        return dithered_grid\n",
    "\n",
    "\n",
    "    def _filter_environment(self, planting_positions:np.ndarray):\n",
    "        \"\"\"\n",
    "        Function to remove close coordinates, ensuring all coordinates are at least 10 apart\n",
    "        All coordinates within 5 grid of the environment borders are also remove as a buffer effect\n",
    "        \n",
    "        Args:\n",
    "            planting_positions (np.ndarray): numpy array of all plantable coordinates from dithering algorithm\n",
    "\n",
    "        Returns:\n",
    "            final_grid (np.ndarray): self.grid_size grid of 0 for unplantable and 1 for plantable\n",
    "            final_planting_coordinates (np.ndarray): (1, num_planting_coord) numpy array        \n",
    "        \"\"\"\n",
    "        min_distance = 10\n",
    "        filtered_planting_positions = planting_positions.copy()\n",
    "        \n",
    "        # Calculate elucidean distance between coordinates\n",
    "        distances = cdist(filtered_planting_positions, filtered_planting_positions)\n",
    "\n",
    "        # Keep a numpy array of all filtered position and assume is true\n",
    "        keep_array = np.ones(len(filtered_planting_positions), dtype=bool)\n",
    "\n",
    "        # Check for points that are too close\n",
    "        for i in range(len(filtered_planting_positions)):\n",
    "            plant_coordinate = filtered_planting_positions[i]\n",
    "            # Boundary of 5 pixel to prevent tress on the edge\n",
    "            if plant_coordinate[0] <= 5 or plant_coordinate[0] >= (self.grid_size[0] -5):\n",
    "                keep_array[i] = False\n",
    "            \n",
    "            if plant_coordinate[1] <= 5 or plant_coordinate[1] >= (self.grid_size[1] -5):\n",
    "                keep_array[i] = False\n",
    "\n",
    "            # Only consider points that haven't been removed\n",
    "            if keep_array[i]:  \n",
    "                for j in range(i + 1, len(filtered_planting_positions)):\n",
    "                    if distances[i, j] < min_distance:\n",
    "                        # Remove the second point if it's too close\n",
    "                        keep_array[j] = False\n",
    "\n",
    "\n",
    "        final_planting_coordinates = filtered_planting_positions[keep_array]\n",
    "        # Final grid (All 0s)\n",
    "        final_grid = np.zeros(self.grid_size)\n",
    "        # Update grid with planting position\n",
    "        for coordinates in final_planting_coordinates:\n",
    "            final_grid[coordinates[0], coordinates[1]] = 1\n",
    "        return final_grid, final_planting_coordinates\n",
    "\n",
    "\n",
    "    def reset(self):\n",
    "        self.grid, self.planting_coordinates = self._create_environment()\n",
    "        pass\n",
    "\n",
    "\n",
    "    def step(self):\n",
    "        pass"
   ]
  },
  {
   "cell_type": "code",
   "execution_count": 5,
   "metadata": {},
   "outputs": [
    {
     "name": "stderr",
     "output_type": "stream",
     "text": [
      "c:\\Users\\cheng\\anaconda3\\lib\\site-packages\\stable_baselines3\\common\\vec_env\\patch_gym.py:49: UserWarning: You provided an OpenAI Gym environment. We strongly recommend transitioning to Gymnasium environments. Stable-Baselines3 is automatically wrapping your environments in a compatibility layer, which could potentially cause issues.\n",
      "  warnings.warn(\n"
     ]
    }
   ],
   "source": [
    "from stable_baselines3.common.vec_env import DummyVecEnv\n",
    "\n",
    "def make_env(octave):\n",
    "    def _init():\n",
    "        return customSpatialEnv(octave)\n",
    "    return _init\n",
    "\n",
    "# Example code for multiple environment, will make a list of 5 random environments\n",
    "envs = DummyVecEnv([make_env(random.uniform(1,2)) for env in range(5)])\n"
   ]
  },
  {
   "cell_type": "code",
   "execution_count": 7,
   "metadata": {},
   "outputs": [
    {
     "name": "stdout",
     "output_type": "stream",
     "text": [
      "[0.01710528 0.96797854 0.5093928 ]\n",
      "[ 6 10]\n"
     ]
    },
    {
     "data": {
      "text/plain": [
       "<matplotlib.image.AxesImage at 0x25328feebb0>"
      ]
     },
     "execution_count": 7,
     "metadata": {},
     "output_type": "execute_result"
    },
    {
     "data": {
      "image/png": "[encoded data removed]",
      "text/plain": [
       "<Figure size 640x480 with 1 Axes>"
      ]
     },
     "metadata": {},
     "output_type": "display_data"
    }
   ],
   "source": [
    "import matplotlib.pyplot as plt\n",
    "# TEST EXAMPLE\n",
    "test = customSpatialEnv(1.23)\n",
    "print(test.action_space.sample()) #random action\n",
    "print(test.planting_coordinates[0]) #coordinates\n",
    "plt.imshow(test.grid) #grid"
   ]
  },
  {
   "cell_type": "code",
   "execution_count": null,
   "metadata": {},
   "outputs": [],
   "source": []
  }
 ],
 "metadata": {
  "kernelspec": {
   "display_name": "base",
   "language": "python",
   "name": "python3"
  },
  "language_info": {
   "codemirror_mode": {
    "name": "ipython",
    "version": 3
   },
   "file_extension": ".py",
   "mimetype": "text/x-python",
   "name": "python",
   "nbconvert_exporter": "python",
   "pygments_lexer": "ipython3",
   "version": "3.9.13"
  }
 },
 "nbformat": 4,
 "nbformat_minor": 2
}
